{
 "cells": [
  {
   "cell_type": "code",
   "execution_count": 1,
   "metadata": {
    "id": "Eh2z6A_hMyCo"
   },
   "outputs": [],
   "source": [
    "#importing the regular expressoin library\n",
    "import re"
   ]
  },
  {
   "cell_type": "markdown",
   "metadata": {
    "id": "OV_PAxn6Ru0n"
   },
   "source": [
    "**1. Ecrire une expression régulière pour vérifier qu’une chaîne de caractères contient uniquement\n",
    "des caractères alphanumériques.**"
   ]
  },
  {
   "cell_type": "code",
   "execution_count": 2,
   "metadata": {
    "colab": {
     "base_uri": "https://localhost:8080/"
    },
    "id": "5wWGlNMPNE_D",
    "outputId": "305a51e8-9094-4e4c-b83c-0505700c102a"
   },
   "outputs": [
    {
     "name": "stdout",
     "output_type": "stream",
     "text": [
      "[]\n",
      "The string contains only alphanumeric characters\n"
     ]
    }
   ],
   "source": [
    "text = \"a0simple0string9for9testing\"\n",
    "#find all the matches non alphanumeric\n",
    "x = re.findall(\"[^a-zA-Z0-9]\", text)\n",
    "\n",
    "print(x)\n",
    "# if the list is empty then the string contains only alphanumeric characters\n",
    "if x:\n",
    "  print(\"War: The string contains other types of characters!!\")\n",
    "else:\n",
    "  print(\"The string contains only alphanumeric characters\")\n"
   ]
  },
  {
   "cell_type": "markdown",
   "metadata": {
    "id": "iTrodJGPTlaz"
   },
   "source": [
    "**2. Ecrire une expression régulière pour trouver toutes les occurrences de l’article « le » dans un\n",
    "texte.**"
   ]
  },
  {
   "cell_type": "code",
   "execution_count": 3,
   "metadata": {
    "colab": {
     "base_uri": "https://localhost:8080/"
    },
    "id": "rIwDCaHBTDPG",
    "outputId": "f31fec04-5994-468e-9361-b5636f3c77c4"
   },
   "outputs": [
    {
     "name": "stdout",
     "output_type": "stream",
     "text": [
      "['Le ', ' le ', ' le ', ' le ', 'Le ', ' le ', ' le ', ' le ']\n",
      "8\n"
     ]
    }
   ],
   "source": [
    "# the following string contains 3 of the article \"le\"\n",
    "text = \"Le soleil brille dans le ciel bleu sur le beau jardin de fleurs.\"\n",
    "\n",
    "# the following string contains 8 of the article \"le\"\n",
    "text2 = (\"Le grand château se dresse majestueusement sur le sommet de la colline, dominant le paysage environnant.\"\n",
    "\" Ses murs de pierre, usés par le temps, racontent une histoire de siècles passés. Le soleil se couche lentement, jetant des ombres\"\n",
    "\" longues et sinistres à travers le terrain vallonné. Malgré son âge, le château reste un symbole de force et de résilience, un rappel de le grandeur de ceux qui l’ont construit.\")\n",
    "\n",
    "x = re.findall(r\"Le |\\sle\\s\",text2)\n",
    "print(x)\n",
    "print(len(x))"
   ]
  },
  {
   "cell_type": "markdown",
   "metadata": {
    "id": "KoCIl40CYfe6"
   },
   "source": [
    "**3. Ecrire une expression régulière qui remplace toutes les occurrences des noms des mois ou des\n",
    "jours de la semaine par <\\DATE>.**"
   ]
  },
  {
   "cell_type": "code",
   "execution_count": 4,
   "metadata": {
    "id": "ihJRzrj6USm3"
   },
   "outputs": [],
   "source": [
    "text =( \"Lundi, nous sommes entrés dans le mois de Janvier. Mardi, nous avons planifié pour Février. Mercredi, nous avons rêvé de Mars. \"\n",
    "\"Jeudi, nous avons pensé à Avril. Vendredi, nous avons dansé en Mai. Samedi, nous avons chanté pour Juin. Dimanche, nous avons célébré Juillet,\"\n",
    "\"La semaine suivante, Lundi, nous avons accueilli Août. Mardi, nous avons salué Septembre. Mercredi, nous avons admiré Octobre. Jeudi, nous avons\"\n",
    "\" remercié Novembre. Vendredi, nous avons dit au revoir à Décembre. Samedi, nous avons réfléchi à l annee ecoulee. Et Dimanche, nous avons accueilli une nouvelle semaine avec espoir et joie.\")\n",
    "\n",
    "# list of months\n",
    "months =\"Janvier|Février|Mars|Avril|Mai|Juin|Juillet|Août|Septembre|Octobre|Novembre|Décembre\"\n",
    "\n",
    "# list of days\n",
    "days = \"Lundi|Mardi|Mercredi|Jeudi|Vendredi|Samedi|Dimanche\"\n",
    "\n",
    "x = re.sub(f\"{days}|{months}\", \"<Date>\", text)"
   ]
  },
  {
   "cell_type": "code",
   "execution_count": 5,
   "metadata": {
    "colab": {
     "base_uri": "https://localhost:8080/"
    },
    "id": "cbBSnXWpb74S",
    "outputId": "1bf0cca0-fd72-4805-bd35-5c957e1a7dd1"
   },
   "outputs": [
    {
     "name": "stdout",
     "output_type": "stream",
     "text": [
      "Lundi, nous sommes entrés dans le mois de Janvier.\n",
      "Mardi, nous avons planifié pour Février. Mercredi,\n",
      "nous avons rêvé de Mars. Jeudi, nous avons pensé à\n",
      "Avril. Vendredi, nous avons dansé en Mai. Samedi,\n",
      "nous avons chanté pour Juin. Dimanche, nous avons\n",
      "célébré Juillet,La semaine suivante, Lundi, nous\n",
      "avons accueilli Août. Mardi, nous avons salué\n",
      "Septembre. Mercredi, nous avons admiré Octobre.\n",
      "Jeudi, nous avons remercié Novembre. Vendredi,\n",
      "nous avons dit au revoir à Décembre. Samedi, nous\n",
      "avons réfléchi à l annee ecoulee. Et Dimanche,\n",
      "nous avons accueilli une nouvelle semaine avec\n",
      "espoir et joie.\n",
      "--------------------------------------\n",
      "<Date>, nous sommes entrés dans le mois de <Date>.\n",
      "<Date>, nous avons planifié pour <Date>. <Date>,\n",
      "nous avons rêvé de <Date>. <Date>, nous avons\n",
      "pensé à <Date>. <Date>, nous avons dansé en\n",
      "<Date>. <Date>, nous avons chanté pour <Date>.\n",
      "<Date>, nous avons célébré <Date>,La semaine\n",
      "suivante, <Date>, nous avons accueilli <Date>.\n",
      "<Date>, nous avons salué <Date>. <Date>, nous\n",
      "avons admiré <Date>. <Date>, nous avons remercié\n",
      "<Date>. <Date>, nous avons dit au revoir à <Date>.\n",
      "<Date>, nous avons réfléchi à l annee ecoulee. Et\n",
      "<Date>, nous avons accueilli une nouvelle semaine\n",
      "avec espoir et joie.\n"
     ]
    }
   ],
   "source": [
    "import textwrap\n",
    "# Wrap the text\n",
    "wrapped_text = textwrap.fill(text, width=50)\n",
    "wrapped_sub_text = textwrap.fill(x, width=50)\n",
    "\n",
    "# Print the wrapped text\n",
    "print(wrapped_text)\n",
    "print(\"--------------------------------------\")\n",
    "print(wrapped_sub_text)\n"
   ]
  },
  {
   "cell_type": "markdown",
   "metadata": {
    "id": "wT1hs41Hgvbn"
   },
   "source": [
    "**4. Ecrire et tester les expressions régulières pour extraire:**\n",
    "\n",
    "  **a. L’ensemble de tous les mots minuscules se terminant par un b;**"
   ]
  },
  {
   "cell_type": "code",
   "execution_count": 6,
   "metadata": {
    "colab": {
     "base_uri": "https://localhost:8080/"
    },
    "id": "sinw7USJdza4",
    "outputId": "320059fc-2237-46cc-df5f-f0705f43d253"
   },
   "outputs": [
    {
     "name": "stdout",
     "output_type": "stream",
     "text": [
      "11\n",
      "[' le', ' de', ' de', ' semaine', ' suivante', ' annee', ' ecoulee', ' une', ' nouvelle', ' semaine', ' joie']\n"
     ]
    }
   ],
   "source": [
    "# all the lower case words end with 'b'\n",
    "x = re.findall(r\"\\s[a-z]*e\\b\",text)\n",
    "print(len(x))\n",
    "print(x)"
   ]
  },
  {
   "cell_type": "markdown",
   "metadata": {
    "id": "76maF9ewjrW7"
   },
   "source": [
    "**b. L’ensemble de toutes les chaînes avec deux mots répétés consécutifs (e.g., “Cours\n",
    "COURS” et “Le le” )**\n",
    "\n",
    "> Add blockquote\n",
    "\n"
   ]
  },
  {
   "cell_type": "code",
   "execution_count": 7,
   "metadata": {
    "id": "_dU7x9CUh70f"
   },
   "outputs": [],
   "source": [
    "text2 = \"\"\"btest Le le soleil brille brille dans le ciel, illuminant la terre de sa lumière dorée. Les oiseaux chantent leurs mélodies joyeuses, ajoutant de la musique à cette belle journée. Les fleurs dans le jardin dansent doucement dans la brise, leurs couleurs vives ajoutant de la beauté à la scène. Les enfants jouent dans le parc, leurs rires remplissant l’air de joie.\n",
    "ba test a.\n",
    "Cours COURS vers tes rêves, ne laisse pas les obstacles te décourager. Chaque défi est une opportunité de croissance, chaque échec est une leçon à apprendre. N’oublie pas de prendre le temps d’apprécier les petites choses de la vie, car ce sont elles qui rendent la vie vraiment belle.\n",
    "\n",
    "La la musique de la vie est partout, dans le murmure du vent dans les arbres, dans le bruissement des feuilles sous nos pieds, dans le chant des oiseaux au lever du soleil. Il suffit d’écouter pour l’entendre aab.\n",
    "a test ab.\n",
    "Et et nous continuons à avancer, à apprendre, à grandir, à aimer. Nous faisons des erreurs, nous tombons, mais nous nous relevons toujours. Car c’est cela, la vie. Un voyage incroyable, plein de hauts et de bas, de joies et de peines, d’amour et de perte.\n",
    "bb test c.\n",
    "Nous nous efforçons de faire de notre mieux, de laisser notre marque dans le Monde monde, de faire une différence. Et à la fin de la journée, nous pouvons regarder en arrière et dire avec fierté : “J’ai vécu, j’ai aimé, j’ai appris, et j’ai grandi.\"\"\"\n",
    "\n",
    "# print(text2)"
   ]
  },
  {
   "cell_type": "code",
   "execution_count": 8,
   "metadata": {
    "colab": {
     "base_uri": "https://localhost:8080/"
    },
    "id": "vWFnwZzflKEv",
    "outputId": "f9b31a96-81f1-4f71-8e64-f56f25c7abd7"
   },
   "outputs": [
    {
     "name": "stdout",
     "output_type": "stream",
     "text": [
      "['Le', 'brille', 'Cours', 'La', 'Et', 'nous', 'Nous', 'Monde']\n"
     ]
    }
   ],
   "source": [
    "x = re.findall(r'\\b(\\w+)\\s+\\1\\b',text2, re.IGNORECASE) #The re.IGNORECASE flag makes the match case-insensitive\n",
    "print(x)"
   ]
  },
  {
   "cell_type": "markdown",
   "metadata": {
    "id": "c5huHBVbwzwP"
   },
   "source": [
    "**5. Ecrire une expression régulière pour extraire tous les mots qui commencent au début de la ligne\n",
    "par un ‘b’ ou qui se terminent à la fin de la ligne par un ‘b’.**"
   ]
  },
  {
   "cell_type": "code",
   "execution_count": 9,
   "metadata": {
    "colab": {
     "base_uri": "https://localhost:8080/"
    },
    "id": "SKas-qO9say1",
    "outputId": "d33014ea-d99e-48a7-a0c7-0147f78414e8"
   },
   "outputs": [
    {
     "name": "stdout",
     "output_type": "stream",
     "text": [
      "['b', '\\nba', 'aab.', 'ab.', '\\nbb']\n",
      "5\n"
     ]
    }
   ],
   "source": [
    "x = re.findall(r\"\\Ab|\\nb\\w*|\\w*b[\\n .]\",text2)\n",
    "print(x)\n",
    "print(len(x))"
   ]
  },
  {
   "cell_type": "markdown",
   "metadata": {
    "id": "fyxCGT7rFo3y"
   },
   "source": [
    "**6. Ecrire une expression régulière pour extraire l’ensemble de tous les nombres en chiffres ( e.g.\n",
    "125 ; 12.22 ; 1.22 ; 1,23 ; ٥٧, …) et les normaliser :\n",
    "125,25\n",
    " 125.25\n",
    "٥,\n",
    "٥  5.5\n",
    "15.5\n",
    "15.50**"
   ]
  },
  {
   "cell_type": "code",
   "execution_count": 10,
   "metadata": {
    "id": "GJQ8kQyu1wMT"
   },
   "outputs": [],
   "source": [
    "text2 = (\"Dans le magasin, il y avait ١٠٠ pommes. J'en ai acheté ٣,٥ pour faire une tarte. Ensuite, j'ai vu un beau t-shirt pour ١٩,٩٩ euros.\"\n",
    "\" Sur le chemin du retour, j'ai marché ١,٦ kilomètres. J'ai vu ٧,٥ chiens dans le parc.\"\n",
    "\" En rentrant chez moi, j'ai préparé du thé pour ٢ personnes et j'ai mis ٠,٥ cuillère à café de sucre dans chaque tasse.the frensh version:\"\n",
    "\"Dans le magasin, il y avait 100 pommes. J'en ai acheté 3,5 pour faire une tarte. Ensuite, j'ai vu un beau t-shirt pour 19,99 euros. Sur le chemin\"\n",
    "\" du retour, j'ai marché 1.6 kilomètres. J'ai vu 7.5 chiens dans le parc. En rentrant chez moi, j'ai préparé du thé pour 2 personnes et j'ai mis 0,5 cuillère\"\n",
    "\" à café de sucre dans chaque tasse.\")"
   ]
  },
  {
   "cell_type": "code",
   "execution_count": 11,
   "metadata": {
    "colab": {
     "base_uri": "https://localhost:8080/"
    },
    "id": "H4qm7SDFG0Bt",
    "outputId": "4181848c-6d3b-465b-bb69-5e594f6ad4c1"
   },
   "outputs": [
    {
     "name": "stdout",
     "output_type": "stream",
     "text": [
      "['١٠٠', '٣,٥', '١٩,٩٩', '١,٦', '٧,٥', '٢', '٠,٥', '100', '3,5', '19,99', '1.6', '7.5', '2', '0,5']\n",
      "14\n"
     ]
    }
   ],
   "source": [
    "x = re.findall(\"\\d+[,.]?\\d*\",text2)\n",
    "print(x)\n",
    "print(len(x))"
   ]
  },
  {
   "cell_type": "code",
   "execution_count": 12,
   "metadata": {
    "colab": {
     "base_uri": "https://localhost:8080/"
    },
    "id": "WEiGypJyHkX7",
    "outputId": "cef1138a-188b-4919-881f-116217f140d1"
   },
   "outputs": [
    {
     "name": "stdout",
     "output_type": "stream",
     "text": [
      "['١٠٠', '٣.٥', '١٩.٩٩', '١.٦', '٧.٥', '٢', '٠.٥', '100', '3.5', '19.99', '1.6', '7.5', '2', '0.5']\n",
      "14\n"
     ]
    }
   ],
   "source": [
    "# normalization\n",
    "normalized_list = []\n",
    "for word in x:\n",
    "  normalized_list.append(re.sub(\",\",\".\",word))\n",
    "print(normalized_list)\n",
    "print(len(normalized_list))"
   ]
  },
  {
   "cell_type": "markdown",
   "metadata": {
    "id": "NADfZBDmPe-N"
   },
   "source": [
    "**7.Ecrire une expression régulière pour extraire toutes les dates à partir d’un texte puis les normaliser sous format dd/mm/yyyy. On se limite aux dates de forme dd/mm/yyyy, dd/mm/yy,# dd-mm-yyyy, ou dd-mm-yy**"
   ]
  },
  {
   "cell_type": "code",
   "execution_count": 13,
   "metadata": {
    "colab": {
     "base_uri": "https://localhost:8080/"
    },
    "id": "KbRxMi_PMejZ",
    "outputId": "ae1b8088-2c3e-4179-918d-c3381337d488"
   },
   "outputs": [
    {
     "name": "stdout",
     "output_type": "stream",
     "text": [
      "['31/12/2023', '15/07/2021', '22/09/2022', '03/04/2024']\n"
     ]
    }
   ],
   "source": [
    "import re\n",
    "\n",
    "def normalize_date(match):\n",
    "    day, month, year = match\n",
    "    if len(year) == 2:\n",
    "        year = '20' + year if int(year) <= 24 else '19' + year\n",
    "    return f\"{day}/{month}/{year}\"\n",
    "\n",
    "text = \"Voici quelques dates : 31/12/2023, 15/07/21, 22-09-2022, 03-04-24.\"\n",
    "\n",
    "date_regex = r'(\\d{2})[-/](\\d{2})[-/](\\d{4}|\\d{2})'\n",
    "dates = re.findall(date_regex, text)\n",
    "\n",
    "normalized_dates = [normalize_date(match) for match in dates]\n",
    "print(normalized_dates)\n"
   ]
  },
  {
   "cell_type": "markdown",
   "metadata": {
    "id": "49UW1SNwOjDl"
   },
   "source": [
    "# Exercice 2"
   ]
  },
  {
   "cell_type": "markdown",
   "metadata": {},
   "source": [
    "#### 1- Implémenter l'algorithme de distance d'édition minimale en complétant le code donné dans le fichier emd.py"
   ]
  },
  {
   "cell_type": "code",
   "execution_count": 14,
   "metadata": {},
   "outputs": [
    {
     "name": "stdout",
     "output_type": "stream",
     "text": [
      "1\n"
     ]
    }
   ],
   "source": [
    "def del_cost():\n",
    "    return 1\n",
    "\n",
    "def ins_cost():\n",
    "    return 1\n",
    "\n",
    "def sub_cost(c1, c2):\n",
    "    if c1 == c2: \n",
    "        return 0\n",
    "    else:\n",
    "        return 2\n",
    "\n",
    "def min_edit_distance(source, target, do_print_chart=False):\n",
    "\n",
    "    # initialize a matrix with zeros\n",
    "    if(len(source) > len(target)):\n",
    "        T =[[0 for x in range(len(source)+1)] for y in range(len(source)+1)]\n",
    "    else:\n",
    "        T =[[0 for x in range(len(target)+1)] for y in range(len(target)+1)]\n",
    "    \n",
    "    for i in range(len(source)+1):\n",
    "        for j in range(len(target)+1):\n",
    "            if(i == 0 and j == 0 ):\n",
    "                T[i][j] = 0\n",
    "\n",
    "            elif (i == 0):\n",
    "                T[i][j] = T[i][j-1] +1\n",
    "\n",
    "            elif (j == 0):\n",
    "                T[i][j] = T[i-1][j] +1\n",
    "\n",
    "            else:\n",
    "                if (source[i-1] == target[j-1]):\n",
    "                    T[i][j] = T[i-1][j-1]\n",
    "\n",
    "                else:\n",
    "                    T[i][j] = 1 + min(T[i][j-1], T[i-1][j-1], T[i-1][j]) # min ( insertion , replace, remove)\n",
    "#                     T[i][j] = min(T[i][j-1]+1, T[i-1][j-1]+2, T[i-1][j]+1) # case of Levenshtein Minimum Edit Distance\n",
    "\n",
    "\n",
    "#     return T # return the matrix of minimus distances\n",
    "    return T[len(source)][len(target)] # return the finall mini distance\n",
    "\n",
    "\n",
    "    # >>> END YOUR ANSWER\n",
    "        \n",
    "# if __name__ == '__main__':\n",
    "#     import sys\n",
    "    \n",
    "#     if len(sys.argv) == 3:\n",
    "#         w1 = sys.argv[1]\n",
    "#         w2 = sys.argv[2]\n",
    "#     else:\n",
    "#         w1 = 'intention'\n",
    "#         w2 = 'execution'\n",
    "#     print('edit distance between', repr(w1), 'and', repr(w2), 'is', min_edit_distance(w1, w2))\n",
    "\n",
    "print(min_edit_distance(\"bb\",\"ab\"))"
   ]
  },
  {
   "cell_type": "markdown",
   "metadata": {},
   "source": [
    "#### 2- Enrichissez votre fonction de distance d'édition pour également enregistrer la rétrogradation (backtrace) comme décrit dans le cours. Utilisez cette rétrogradation pour imprimer un alignement entre les chaînes de caractères."
   ]
  },
  {
   "cell_type": "code",
   "execution_count": 85,
   "metadata": {},
   "outputs": [
    {
     "name": "stdout",
     "output_type": "stream",
     "text": [
      "('t', 'i')\n",
      "('i', '-')\n",
      "('o', 'n')\n",
      "('n', 't')\n",
      "('e', 'e')\n",
      "('-', 'n')\n",
      "('x', '-')\n",
      "('e', '-')\n",
      "('c', '-')\n",
      "('u', '-')\n",
      "('t', 't')\n",
      "('i', 'i')\n",
      "('o', 'o')\n",
      "('n', 'n')\n",
      "8\n"
     ]
    }
   ],
   "source": [
    "def min_edit_distance(source, target, do_print_chart=False):\n",
    "    # Initialize a matrix with zeros\n",
    "    matrix = [[0 for _ in range(len(target) + 1)] for _ in range(len(source) + 1)]\n",
    "    backtrace = [[None for _ in range(len(target) + 1)] for _ in range(len(source) + 1)]\n",
    "\n",
    "    # Fill the first row and column of the matrix\n",
    "    for i in range(len(source) + 1):\n",
    "        matrix[i][0] = i\n",
    "    for j in range(len(target) + 1):\n",
    "        matrix[0][j] = j\n",
    "\n",
    "    # Fill the rest of the matrix\n",
    "    for i in range(1, len(source) + 1):\n",
    "        for j in range(1, len(target) + 1):\n",
    "            del_cost = matrix[i - 1][j] + 1\n",
    "            ins_cost = matrix[i][j - 1] + 1\n",
    "            sub_cost = matrix[i - 1][j - 1] + (source[i - 1] != target[j - 1]) * sub_cost_f(source[i - 1],target[j - 1])\n",
    "\n",
    "            min_cost = min(del_cost, ins_cost, sub_cost)\n",
    "\n",
    "            if min_cost == del_cost:\n",
    "                backtrace[i][j] = 'd'\n",
    "            elif min_cost == ins_cost:\n",
    "                backtrace[i][j] = 'i'\n",
    "            else:\n",
    "                backtrace[i][j] = 's' if source[i - 1] != target[j - 1] else 'm'\n",
    "\n",
    "            matrix[i][j] = min_cost\n",
    "\n",
    "    # Backtrace to get the alignment\n",
    "    i, j = len(source), len(target)\n",
    "    alignment = []\n",
    "\n",
    "    while i > 0 or j > 0:\n",
    "        if backtrace[i][j] == 'd':\n",
    "            alignment.append((source[i - 1], '-'))\n",
    "            i -= 1\n",
    "        elif backtrace[i][j] == 'i':\n",
    "            alignment.append(('-', target[j - 1]))\n",
    "            j -= 1\n",
    "        else:\n",
    "            alignment.append((source[i - 1], target[j - 1]))\n",
    "            i -= 1\n",
    "            j -= 1\n",
    "\n",
    "    alignment.reverse()\n",
    "\n",
    "    # Print the alignment\n",
    "    if do_print_chart:\n",
    "        for pair in alignment:\n",
    "            print(pair)\n",
    "\n",
    "    return matrix[-1][-1]\n",
    "\n",
    "if __name__ == '__main__':\n",
    "    import sys\n",
    "    \n",
    "    if len(sys.argv) == 4:\n",
    "        w1 = sys.argv[1]\n",
    "        w2 = sys.argv[2]\n",
    "    else:\n",
    "        w1 = 'intention'\n",
    "        w2 = 'execution'\n",
    "#     print('edit distance between', repr(w1), 'and', repr(w2), 'is', min_edit_distance(w1, w2))\n",
    "print(min_edit_distance(\"execution\", \"intention\",True))\n",
    "\n"
   ]
  },
  {
   "cell_type": "code",
   "execution_count": 77,
   "metadata": {},
   "outputs": [
    {
     "name": "stdout",
     "output_type": "stream",
     "text": [
      "{'diag_down_left': '=', 'diag_down_right': 'x', 'diag_up_left': '`', 'diag_up_right': 'w', 'down': 'z', 'left': \"'\", 'loop': 'A', 'right': 's', 'shift_diag_down_left': '+', 'shift_diag_down_right': 'X', 'shift_diag_up_left': '`', 'shift_diag_up_right': 'W', 'shift_down': 'Z', 'shift_left': '\"', 'shift_loop': 'a', 'shift_right': 'S', 'shift_up': 'Q', 'up': 'q'}\n"
     ]
    }
   ],
   "source": [
    "import json\n",
    " \n",
    "# Opening JSON file that contains the qwerty_graph.txt data\n",
    "f = open('keyboard_data.json')\n",
    " \n",
    "# returns JSON object \n",
    "data = json.load(f)\n",
    "# convert the json object into a dictionary\n",
    "keyboard_data = json.loads(data)\n",
    "print(keyboard_data[\"A\"])\n"
   ]
  },
  {
   "cell_type": "code",
   "execution_count": 86,
   "metadata": {},
   "outputs": [],
   "source": [
    "def sub_cost_func(c1, c2):\n",
    "    if c1 == c2: \n",
    "        return 0\n",
    "    elif c1.upper() in k_board and c2 in k_board[c1].values():\n",
    "        return 1  # Lower cost for adjacent keys\n",
    "    else:\n",
    "        return 2\n",
    "\n",
    "def min_edit_distance(source, target, do_print_chart=False):\n",
    "    # Initialize a matrix with zeros\n",
    "    matrix = [[0 for _ in range(len(target) + 1)] for _ in range(len(source) + 1)]\n",
    "    backtrace = [[None for _ in range(len(target) + 1)] for _ in range(len(source) + 1)]\n",
    "\n",
    "    # Fill the first row and column of the matrix\n",
    "    for i in range(len(source) + 1):\n",
    "        matrix[i][0] = i\n",
    "    for j in range(len(target) + 1):\n",
    "        matrix[0][j] = j\n",
    "\n",
    "    # Fill the rest of the matrix\n",
    "    for i in range(1, len(source) + 1):\n",
    "        for j in range(1, len(target) + 1):\n",
    "            del_cost = matrix[i - 1][j] + 1\n",
    "            ins_cost = matrix[i][j - 1] + 1\n",
    "            sub_cost = matrix[i - 1][j - 1] + (source[i - 1] != target[j - 1]) * sub_cost_func(source[i - 1],target[j - 1])\n",
    "\n",
    "            min_cost = min(del_cost, ins_cost, sub_cost)\n",
    "\n",
    "            if min_cost == del_cost:\n",
    "                backtrace[i][j] = 'd'\n",
    "            elif min_cost == ins_cost:\n",
    "                backtrace[i][j] = 'i'\n",
    "            else:\n",
    "                backtrace[i][j] = 's' if source[i - 1] != target[j - 1] else 'm'\n",
    "\n",
    "            matrix[i][j] = min_cost\n",
    "\n",
    "    # Backtrace to get the alignment\n",
    "    if do_print_chart:\n",
    "        i, j = len(source), len(target)\n",
    "        alignment = []\n",
    "\n",
    "        while i > 0 or j > 0:\n",
    "            if backtrace[i][j] == 'd':\n",
    "                alignment.append((source[i - 1], '-'))\n",
    "                i -= 1\n",
    "            elif backtrace[i][j] == 'i':\n",
    "                alignment.append(('-', target[j - 1]))\n",
    "                j -= 1\n",
    "            else:\n",
    "                alignment.append((source[i - 1], target[j - 1]))\n",
    "                i -= 1\n",
    "                j -= 1\n",
    "\n",
    "        alignment.reverse()\n",
    "\n",
    "        # Print the alignment\n",
    "        for pair in alignment:\n",
    "            print(pair)\n",
    "\n",
    "    return matrix[-1][-1]"
   ]
  },
  {
   "cell_type": "code",
   "execution_count": 87,
   "metadata": {},
   "outputs": [
    {
     "name": "stderr",
     "output_type": "stream",
     "text": [
      "[nltk_data] Downloading package words to\n",
      "[nltk_data]     C:\\Users\\dell\\AppData\\Roaming\\nltk_data...\n",
      "[nltk_data]   Package words is already up-to-date!\n"
     ]
    }
   ],
   "source": [
    "import nltk\n",
    "nltk.download('words')\n",
    "from nltk.corpus import words\n",
    "\n",
    "# 'words' is a list of English words\n",
    "english_words = words.words()"
   ]
  },
  {
   "cell_type": "code",
   "execution_count": 88,
   "metadata": {},
   "outputs": [
    {
     "name": "stdout",
     "output_type": "stream",
     "text": [
      "apathy\n"
     ]
    }
   ],
   "source": [
    "print(english_words[11110])"
   ]
  },
  {
   "cell_type": "code",
   "execution_count": 89,
   "metadata": {},
   "outputs": [],
   "source": [
    "def corrector(word, wrods_list,k=5):\n",
    "    words_list=words.words()\n",
    "    distances = [(w,min_edit_distance(word,w)) for w in words_list]\n",
    "    \n",
    "    # Sorts the list in ascending order\n",
    "    distances.sort(key=lambda x: x[1])\n",
    "\n",
    "    # Get the k first words\n",
    "    corrections = [w for w, _ in distances[:k]]\n",
    "    \n",
    "    return corrections"
   ]
  },
  {
   "cell_type": "code",
   "execution_count": 90,
   "metadata": {},
   "outputs": [],
   "source": [
    "import time"
   ]
  },
  {
   "cell_type": "code",
   "execution_count": 92,
   "metadata": {},
   "outputs": [
    {
     "name": "stdout",
     "output_type": "stream",
     "text": [
      "['great', 'neat', 'great', 'beat', 'brat']\n",
      "The execution time of the code is 25.99467182159424 seconds.\n"
     ]
    }
   ],
   "source": [
    "start_time = time.time()\n",
    "\n",
    "print(corrector(\"nreat\",english_words))\n",
    "\n",
    "end_time = time.time()\n",
    "\n",
    "execution_time = end_time - start_time\n",
    "\n",
    "print(f\"The execution time of the code is {execution_time} seconds.\")\n"
   ]
  },
  {
   "cell_type": "markdown",
   "metadata": {},
   "source": [
    "### 5- Optimiser l’algorithme précédent en prenant en compte les remarques suivantes :\n",
    "-Les gens ont généralement la première lettre du mot correcte, donc nous pouvons\n",
    "    limiter notre recherche aux mots commençant par la même lettre.\n",
    " \n",
    "-Nous pouvons restreindre notre recherche aux mots de même longueur ou de longueur\n",
    "    similaire.\n",
    " \n",
    "-Nous pouvons restreindre notre recherche aux mots qui ont le même son, en utilisant\n",
    "    un code phonétique pour regrouper les mots (comme Soundex).\n",
    " \n",
    "-En utilisant d’autres techniques de votre choix"
   ]
  },
  {
   "cell_type": "code",
   "execution_count": 93,
   "metadata": {},
   "outputs": [],
   "source": [
    "def corrector(word, wrods_list,k=5):\n",
    "    words_list=words.words()\n",
    "    # treat only the words with the same first latter\n",
    "    distances = [(w,min_edit_distance(word,w)) for w in words_list if (w[0] == word[0]) and (len(w) == len(word))]\n",
    "    \n",
    "    # Sorts the list in ascending order\n",
    "    distances.sort(key=lambda x: x[1])\n",
    "\n",
    "    # Get the k first words\n",
    "    corrections = [w for w, _ in distances[:k]]\n",
    "    \n",
    "    return corrections"
   ]
  },
  {
   "cell_type": "code",
   "execution_count": 100,
   "metadata": {},
   "outputs": [
    {
     "name": "stdout",
     "output_type": "stream",
     "text": [
      "['garad', 'grade', 'grand', 'great', 'greed']\n",
      "The execution time of the code is 0.1685175895690918 seconds.\n"
     ]
    }
   ],
   "source": [
    "start_time = time.time()\n",
    "\n",
    "print(corrector(\"gread\",english_words))\n",
    "\n",
    "end_time = time.time()\n",
    "\n",
    "execution_time = end_time - start_time\n",
    "\n",
    "print(f\"The execution time of the code is {execution_time} seconds.\")"
   ]
  },
  {
   "cell_type": "code",
   "execution_count": 101,
   "metadata": {},
   "outputs": [],
   "source": [
    "from pyphonetics import Soundex\n",
    "\n",
    "def find_similar_sounding_words(w1, w2):\n",
    "    soundex = Soundex()\n",
    "    word_sound = soundex.phonetics(w1)\n",
    "    if(soundex.phonetics(w2) == word_sound):\n",
    "        return True\n",
    "    else:\n",
    "        return False\n"
   ]
  },
  {
   "cell_type": "code",
   "execution_count": 128,
   "metadata": {},
   "outputs": [],
   "source": [
    "def corrector(word, wrods_list,k=6):\n",
    "    words_list=words.words()\n",
    "    # treat only the words with the same first latter\n",
    "    distances = [(w,min_edit_distance(word,w)) for w in words_list if len(w) == len(word) and (find_similar_sounding_words(w, word)) ]\n",
    "    \n",
    "    # Sorts the list in ascending order\n",
    "    distances.sort(key=lambda x: x[1])\n",
    "\n",
    "    # Get the k first words\n",
    "    corrections = [(w,_) for w, _ in distances[:k]]\n",
    "    \n",
    "    return corrections"
   ]
  },
  {
   "cell_type": "code",
   "execution_count": 129,
   "metadata": {},
   "outputs": [
    {
     "name": "stdout",
     "output_type": "stream",
     "text": [
      "[('garad', 2), ('grade', 2), ('great', 2), ('greed', 2), ('great', 2), ('grate', 3)]\n",
      "The execution time of the code is 0.3369133472442627 seconds.\n"
     ]
    }
   ],
   "source": [
    "start_time = time.time()\n",
    "\n",
    "print(corrector(\"gread\",english_words))\n",
    "\n",
    "end_time = time.time()\n",
    "\n",
    "execution_time = end_time - start_time\n",
    "\n",
    "\n",
    "print(f\"The execution time of the code is {execution_time} seconds.\")"
   ]
  },
  {
   "cell_type": "code",
   "execution_count": 131,
   "metadata": {},
   "outputs": [],
   "source": [
    "# the final result is more accurate than the previous one.\n"
   ]
  },
  {
   "cell_type": "code",
   "execution_count": null,
   "metadata": {},
   "outputs": [],
   "source": []
  }
 ],
 "metadata": {
  "colab": {
   "provenance": []
  },
  "kernelspec": {
   "display_name": "Python 3 (ipykernel)",
   "language": "python",
   "name": "python3"
  },
  "language_info": {
   "codemirror_mode": {
    "name": "ipython",
    "version": 3
   },
   "file_extension": ".py",
   "mimetype": "text/x-python",
   "name": "python",
   "nbconvert_exporter": "python",
   "pygments_lexer": "ipython3",
   "version": "3.9.13"
  }
 },
 "nbformat": 4,
 "nbformat_minor": 1
}
